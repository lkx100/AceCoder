{
  "cells": [
    {
      "cell_type": "code",
      "source": [
        "import torch\n",
        "from torch import nn\n",
        "from torch.utils.data import DataLoader\n",
        "import matplotlib.pyplot as plt\n",
        "import numpy as np"
      ],
      "metadata": {
        "id": "fRwRdnbI5Z1i"
      },
      "execution_count": 49,
      "outputs": []
    },
    {
      "cell_type": "code",
      "source": [
        "x_train = torch.arange(1, 30, 1, dtype=torch.float32)\n",
        "y_true = torch.arange(1, 30, 1, dtype=torch.float32)\n",
        "noise = torch.randint(1, 5, (len(y_true),), dtype=torch.float32)"
      ],
      "metadata": {
        "id": "ImW4_7yqhucW"
      },
      "execution_count": null,
      "outputs": []
    },
    {
      "cell_type": "markdown",
      "source": [
        "# Test"
      ],
      "metadata": {
        "id": "YYwo5deJcXab"
      }
    },
    {
      "cell_type": "code",
      "source": [
        "X = torch.arange(0, 40, 2, dtype=torch.float32)\n",
        "y = torch.arange(0, 40, 2, dtype=torch.float32)"
      ],
      "metadata": {
        "id": "DjjTM6rscDlc"
      },
      "execution_count": 131,
      "outputs": []
    },
    {
      "cell_type": "code",
      "source": [
        "X, X.shape"
      ],
      "metadata": {
        "colab": {
          "base_uri": "https://localhost:8080/",
          "height": 0
        },
        "id": "puNVK77icV_a",
        "outputId": "c0c07f27-c41d-4cf4-e48c-25bba60f22f5"
      },
      "execution_count": 132,
      "outputs": [
        {
          "output_type": "execute_result",
          "data": {
            "text/plain": [
              "(tensor([ 0.,  2.,  4.,  6.,  8., 10., 12., 14., 16., 18., 20., 22., 24., 26.,\n",
              "         28., 30., 32., 34., 36., 38.]),\n",
              " torch.Size([20]))"
            ]
          },
          "metadata": {},
          "execution_count": 132
        }
      ]
    },
    {
      "cell_type": "code",
      "source": [
        "y, y.shape"
      ],
      "metadata": {
        "colab": {
          "base_uri": "https://localhost:8080/",
          "height": 0
        },
        "id": "aF3tHcxV8cE0",
        "outputId": "04ac0b6f-a347-434e-eb78-047126a91858"
      },
      "execution_count": 133,
      "outputs": [
        {
          "output_type": "execute_result",
          "data": {
            "text/plain": [
              "(tensor([ 0.,  2.,  4.,  6.,  8., 10., 12., 14., 16., 18., 20., 22., 24., 26.,\n",
              "         28., 30., 32., 34., 36., 38.]),\n",
              " torch.Size([20]))"
            ]
          },
          "metadata": {},
          "execution_count": 133
        }
      ]
    },
    {
      "cell_type": "code",
      "source": [
        "plt.plot(X, y, 'bo')\n",
        "plt.xlabel('X')\n",
        "plt.ylabel('y')\n",
        "plt.show()"
      ],
      "metadata": {
        "colab": {
          "base_uri": "https://localhost:8080/",
          "height": 449
        },
        "id": "qh85ccg1cV8o",
        "outputId": "ba705089-24fe-43af-9d53-a042b2138f51"
      },
      "execution_count": 146,
      "outputs": [
        {
          "output_type": "display_data",
          "data": {
            "text/plain": [
              "<Figure size 640x480 with 1 Axes>"
            ],
            "image/png": "[encoded data removed]"
          },
          "metadata": {}
        }
      ]
    },
    {
      "cell_type": "code",
      "source": [
        "class LinearRegression(nn.Module):\n",
        "    def __init__(self):\n",
        "        super(LinearRegression, self).__init__()\n",
        "\n",
        "        self.w = nn.Parameter(torch.randn(1, requires_grad=True, dtype=torch.float32))  # weight\n",
        "        self.b = nn.Parameter(torch.randn(1, requires_grad=True, dtype=torch.float32))  # bias\n",
        "\n",
        "    def forward(self, X):\n",
        "        return self.w * X + self.b"
      ],
      "metadata": {
        "id": "Q6OQ46cZcV57"
      },
      "execution_count": 135,
      "outputs": []
    },
    {
      "cell_type": "code",
      "source": [
        "model = LinearRegression()"
      ],
      "metadata": {
        "id": "wuW_fkqIcV2z"
      },
      "execution_count": 136,
      "outputs": []
    },
    {
      "cell_type": "code",
      "source": [
        "print(model)\n",
        "print(model.state_dict())\n",
        "model.b"
      ],
      "metadata": {
        "colab": {
          "base_uri": "https://localhost:8080/",
          "height": 0
        },
        "id": "k1FgaJVtnNIT",
        "outputId": "665adf6a-cf87-43c0-8385-4381508fb2f1"
      },
      "execution_count": 137,
      "outputs": [
        {
          "output_type": "stream",
          "name": "stdout",
          "text": [
            "LinearRegression()\n",
            "OrderedDict([('w', tensor([-1.0908])), ('b', tensor([0.0551]))])\n"
          ]
        },
        {
          "output_type": "execute_result",
          "data": {
            "text/plain": [
              "Parameter containing:\n",
              "tensor([0.0551], requires_grad=True)"
            ]
          },
          "metadata": {},
          "execution_count": 137
        }
      ]
    },
    {
      "cell_type": "code",
      "source": [
        "with torch.inference_mode():\n",
        "    preds = model(X)\n",
        "\n",
        "preds[:10]"
      ],
      "metadata": {
        "colab": {
          "base_uri": "https://localhost:8080/",
          "height": 0
        },
        "id": "Rif7SwsnlTpd",
        "outputId": "b164e9de-b1e7-4599-d04a-28341a73b232"
      },
      "execution_count": 138,
      "outputs": [
        {
          "output_type": "execute_result",
          "data": {
            "text/plain": [
              "tensor([  0.0551,  -2.1266,  -4.3082,  -6.4899,  -8.6715, -10.8532, -13.0348,\n",
              "        -15.2165, -17.3982, -19.5798])"
            ]
          },
          "metadata": {},
          "execution_count": 138
        }
      ]
    },
    {
      "cell_type": "code",
      "source": [
        "plt.plot(X, y, 'bo', label=\"Truth\")\n",
        "plt.plot(X, preds, 'rx', label=\"Prediction\")\n",
        "plt.legend()\n",
        "plt.show()"
      ],
      "metadata": {
        "colab": {
          "base_uri": "https://localhost:8080/",
          "height": 430
        },
        "id": "febe8G1ZlUpq",
        "outputId": "0c8a87d5-5c25-4cda-8b79-a88eb0dbb132"
      },
      "execution_count": 147,
      "outputs": [
        {
          "output_type": "display_data",
          "data": {
            "text/plain": [
              "<Figure size 640x480 with 1 Axes>"
            ],
            "image/png": "[encoded data removed]"
          },
          "metadata": {}
        }
      ]
    },
    {
      "cell_type": "code",
      "source": [
        "from torch import optim"
      ],
      "metadata": {
        "id": "4Hac6_MZ6VkE"
      },
      "execution_count": 140,
      "outputs": []
    },
    {
      "cell_type": "code",
      "source": [
        "mse_loss = nn.MSELoss()\n",
        "optimizer = optim.Adam(model.parameters(), lr=0.01)"
      ],
      "metadata": {
        "id": "EC6EP2ptlUu2"
      },
      "execution_count": 141,
      "outputs": []
    },
    {
      "cell_type": "code",
      "source": [
        "num_epochs = 100\n",
        "for epoch in range(num_epochs):\n",
        "    # 2. Set model in training mode\n",
        "    model.train()\n",
        "\n",
        "    # 3. Calculate predictions\n",
        "    predictions = model(X)\n",
        "\n",
        "    # 4. Calculate loss(predictions, truth)\n",
        "    loss = mse_loss(predictions, y)\n",
        "\n",
        "    # 5. Zero the gradients\n",
        "    optimizer.zero_grad()\n",
        "\n",
        "    # 6. Backpropagate the loss\n",
        "    loss.backward()\n",
        "\n",
        "    # 7. Update weights and biases\n",
        "    optimizer.step()\n",
        "\n",
        "    # Print loss after every epoch\n",
        "    # if epoch % 10 == 0:\n",
        "    print(f\"Epoch: {epoch}, Loss: {loss}\")"
      ],
      "metadata": {
        "colab": {
          "base_uri": "https://localhost:8080/",
          "height": 0
        },
        "id": "Wx0iK8rl6Qk0",
        "outputId": "50c127ac-2506-483c-fbcb-bb9d415c4d8f"
      },
      "execution_count": 143,
      "outputs": [
        {
          "output_type": "stream",
          "name": "stdout",
          "text": [
            "Epoch: 0, Loss: 1946.5484619140625\n",
            "Epoch: 1, Loss: 1926.343994140625\n",
            "Epoch: 2, Loss: 1906.2652587890625\n",
            "Epoch: 3, Loss: 1886.313720703125\n",
            "Epoch: 4, Loss: 1866.4906005859375\n",
            "Epoch: 5, Loss: 1846.797119140625\n",
            "Epoch: 6, Loss: 1827.2347412109375\n",
            "Epoch: 7, Loss: 1807.8037109375\n",
            "Epoch: 8, Loss: 1788.5054931640625\n",
            "Epoch: 9, Loss: 1769.341064453125\n",
            "Epoch: 10, Loss: 1750.3111572265625\n",
            "Epoch: 11, Loss: 1731.416748046875\n",
            "Epoch: 12, Loss: 1712.658203125\n",
            "Epoch: 13, Loss: 1694.036376953125\n",
            "Epoch: 14, Loss: 1675.5517578125\n",
            "Epoch: 15, Loss: 1657.2047119140625\n",
            "Epoch: 16, Loss: 1638.995849609375\n",
            "Epoch: 17, Loss: 1620.92578125\n",
            "Epoch: 18, Loss: 1602.994384765625\n",
            "Epoch: 19, Loss: 1585.202392578125\n",
            "Epoch: 20, Loss: 1567.5494384765625\n",
            "Epoch: 21, Loss: 1550.0357666015625\n",
            "Epoch: 22, Loss: 1532.6619873046875\n",
            "Epoch: 23, Loss: 1515.4278564453125\n",
            "Epoch: 24, Loss: 1498.333251953125\n",
            "Epoch: 25, Loss: 1481.3779296875\n",
            "Epoch: 26, Loss: 1464.5623779296875\n",
            "Epoch: 27, Loss: 1447.885986328125\n",
            "Epoch: 28, Loss: 1431.348876953125\n",
            "Epoch: 29, Loss: 1414.950439453125\n",
            "Epoch: 30, Loss: 1398.6905517578125\n",
            "Epoch: 31, Loss: 1382.5689697265625\n",
            "Epoch: 32, Loss: 1366.58544921875\n",
            "Epoch: 33, Loss: 1350.7396240234375\n",
            "Epoch: 34, Loss: 1335.031005859375\n",
            "Epoch: 35, Loss: 1319.459228515625\n",
            "Epoch: 36, Loss: 1304.023681640625\n",
            "Epoch: 37, Loss: 1288.72412109375\n",
            "Epoch: 38, Loss: 1273.56005859375\n",
            "Epoch: 39, Loss: 1258.53076171875\n",
            "Epoch: 40, Loss: 1243.635986328125\n",
            "Epoch: 41, Loss: 1228.8748779296875\n",
            "Epoch: 42, Loss: 1214.2474365234375\n",
            "Epoch: 43, Loss: 1199.7525634765625\n",
            "Epoch: 44, Loss: 1185.3896484375\n",
            "Epoch: 45, Loss: 1171.158447265625\n",
            "Epoch: 46, Loss: 1157.0579833984375\n",
            "Epoch: 47, Loss: 1143.087890625\n",
            "Epoch: 48, Loss: 1129.24755859375\n",
            "Epoch: 49, Loss: 1115.5361328125\n",
            "Epoch: 50, Loss: 1101.952880859375\n",
            "Epoch: 51, Loss: 1088.497314453125\n",
            "Epoch: 52, Loss: 1075.1688232421875\n",
            "Epoch: 53, Loss: 1061.966552734375\n",
            "Epoch: 54, Loss: 1048.889892578125\n",
            "Epoch: 55, Loss: 1035.938232421875\n",
            "Epoch: 56, Loss: 1023.1107177734375\n",
            "Epoch: 57, Loss: 1010.4066162109375\n",
            "Epoch: 58, Loss: 997.8255615234375\n",
            "Epoch: 59, Loss: 985.3665161132812\n",
            "Epoch: 60, Loss: 973.0286865234375\n",
            "Epoch: 61, Loss: 960.8115234375\n",
            "Epoch: 62, Loss: 948.7142333984375\n",
            "Epoch: 63, Loss: 936.7364501953125\n",
            "Epoch: 64, Loss: 924.876953125\n",
            "Epoch: 65, Loss: 913.1351318359375\n",
            "Epoch: 66, Loss: 901.5103759765625\n",
            "Epoch: 67, Loss: 890.0020751953125\n",
            "Epoch: 68, Loss: 878.6090698242188\n",
            "Epoch: 69, Loss: 867.3309326171875\n",
            "Epoch: 70, Loss: 856.1668090820312\n",
            "Epoch: 71, Loss: 845.1160278320312\n",
            "Epoch: 72, Loss: 834.1779174804688\n",
            "Epoch: 73, Loss: 823.3515625\n",
            "Epoch: 74, Loss: 812.6363525390625\n",
            "Epoch: 75, Loss: 802.0315551757812\n",
            "Epoch: 76, Loss: 791.5362548828125\n",
            "Epoch: 77, Loss: 781.1500244140625\n",
            "Epoch: 78, Loss: 770.8719482421875\n",
            "Epoch: 79, Loss: 760.7011108398438\n",
            "Epoch: 80, Loss: 750.636962890625\n",
            "Epoch: 81, Loss: 740.6788330078125\n",
            "Epoch: 82, Loss: 730.825927734375\n",
            "Epoch: 83, Loss: 721.077392578125\n",
            "Epoch: 84, Loss: 711.4326171875\n",
            "Epoch: 85, Loss: 701.8909301757812\n",
            "Epoch: 86, Loss: 692.4513549804688\n",
            "Epoch: 87, Loss: 683.1134033203125\n",
            "Epoch: 88, Loss: 673.8760986328125\n",
            "Epoch: 89, Loss: 664.7389526367188\n",
            "Epoch: 90, Loss: 655.7010498046875\n",
            "Epoch: 91, Loss: 646.7618408203125\n",
            "Epoch: 92, Loss: 637.92041015625\n",
            "Epoch: 93, Loss: 629.1760864257812\n",
            "Epoch: 94, Loss: 620.5281982421875\n",
            "Epoch: 95, Loss: 611.9761962890625\n",
            "Epoch: 96, Loss: 603.5189208984375\n",
            "Epoch: 97, Loss: 595.1558837890625\n",
            "Epoch: 98, Loss: 586.8864135742188\n",
            "Epoch: 99, Loss: 578.7098388671875\n"
          ]
        }
      ]
    },
    {
      "cell_type": "code",
      "source": [
        "with torch.inference_mode():\n",
        "    predictions = model(X)\n",
        "\n",
        "predictions"
      ],
      "metadata": {
        "colab": {
          "base_uri": "https://localhost:8080/",
          "height": 0
        },
        "id": "AonXwfND6Qsn",
        "outputId": "30dee7d4-485c-4482-93e7-6cae8606ef51"
      },
      "execution_count": 144,
      "outputs": [
        {
          "output_type": "execute_result",
          "data": {
            "text/plain": [
              "tensor([ 1.0296,  0.8014,  0.5732,  0.3451,  0.1169, -0.1113, -0.3395, -0.5677,\n",
              "        -0.7959, -1.0241, -1.2522, -1.4804, -1.7086, -1.9368, -2.1650, -2.3932,\n",
              "        -2.6214, -2.8495, -3.0777, -3.3059])"
            ]
          },
          "metadata": {},
          "execution_count": 144
        }
      ]
    },
    {
      "cell_type": "code",
      "source": [
        "plt.plot(X, y, 'bo', label=\"Truth\")\n",
        "plt.plot(X, predictions, 'rx', label=\"Prediction\")\n",
        "plt.legend()"
      ],
      "metadata": {
        "colab": {
          "base_uri": "https://localhost:8080/",
          "height": 453
        },
        "id": "IywGRXHk6Qyn",
        "outputId": "78ee1710-315d-47e2-81b7-4d95777f7742"
      },
      "execution_count": 145,
      "outputs": [
        {
          "output_type": "execute_result",
          "data": {
            "text/plain": [
              "<matplotlib.legend.Legend at 0x7fd1d9a9d610>"
            ]
          },
          "metadata": {},
          "execution_count": 145
        },
        {
          "output_type": "display_data",
          "data": {
            "text/plain": [
              "<Figure size 640x480 with 1 Axes>"
            ],
            "image/png": "[encoded data removed]"
          },
          "metadata": {}
        }
      ]
    },
    {
      "cell_type": "code",
      "source": [],
      "metadata": {
        "id": "1DVIyuz7lUzm"
      },
      "execution_count": null,
      "outputs": []
    },
    {
      "cell_type": "code",
      "source": [],
      "metadata": {
        "id": "-H0etYX2cVz-"
      },
      "execution_count": null,
      "outputs": []
    },
    {
      "cell_type": "code",
      "source": [],
      "metadata": {
        "id": "mEmzyiUEcVxk"
      },
      "execution_count": null,
      "outputs": []
    },
    {
      "cell_type": "code",
      "source": [],
      "metadata": {
        "id": "kEjIoeBOcVnV"
      },
      "execution_count": null,
      "outputs": []
    },
    {
      "cell_type": "code",
      "source": [
        "y_train = y_true + noise"
      ],
      "metadata": {
        "id": "Elh4ZkzXj7CI"
      },
      "execution_count": null,
      "outputs": []
    },
    {
      "cell_type": "code",
      "source": [
        "x_train, y_train, noise"
      ],
      "metadata": {
        "colab": {
          "base_uri": "https://localhost:8080/"
        },
        "id": "WEqu6pFSinQu",
        "outputId": "814834c8-c726-4196-8437-c9f8b450c378"
      },
      "execution_count": null,
      "outputs": [
        {
          "output_type": "execute_result",
          "data": {
            "text/plain": [
              "(tensor([ 1.,  2.,  3.,  4.,  5.,  6.,  7.,  8.,  9., 10., 11., 12., 13., 14.,\n",
              "         15., 16., 17., 18., 19., 20., 21., 22., 23., 24., 25., 26., 27., 28.,\n",
              "         29.]),\n",
              " tensor([ 5.,  4.,  6.,  5.,  8.,  9., 10.,  9., 10., 13., 15., 14., 16., 18.,\n",
              "         19., 18., 20., 22., 20., 23., 23., 25., 25., 28., 26., 28., 28., 29.,\n",
              "         32.]),\n",
              " tensor([4., 2., 3., 1., 3., 3., 3., 1., 1., 3., 4., 2., 3., 4., 4., 2., 3., 4.,\n",
              "         1., 3., 2., 3., 2., 4., 1., 2., 1., 1., 3.]))"
            ]
          },
          "metadata": {},
          "execution_count": 87
        }
      ]
    },
    {
      "cell_type": "code",
      "source": [
        "plt.plot(x_train, y_true, label=\"True Label\")\n",
        "plt.plot(x_train, y_train, label=\"Predictive Label\")\n",
        "plt.legend()\n",
        "plt.title(\"Before Training\")"
      ],
      "metadata": {
        "colab": {
          "base_uri": "https://localhost:8080/",
          "height": 470
        },
        "id": "LJ3cKj2EiyqB",
        "outputId": "626d779e-61ee-4c39-f279-6730ddb60fd4"
      },
      "execution_count": null,
      "outputs": [
        {
          "output_type": "execute_result",
          "data": {
            "text/plain": [
              "Text(0.5, 1.0, 'Before Training')"
            ]
          },
          "metadata": {},
          "execution_count": 88
        },
        {
          "output_type": "display_data",
          "data": {
            "text/plain": [
              "<Figure size 640x480 with 1 Axes>"
            ],
            "image/png": "[encoded data removed]"
          },
          "metadata": {}
        }
      ]
    },
    {
      "cell_type": "code",
      "source": [
        "class LinearRegression(nn.Module):\n",
        "    def __init__(self):\n",
        "        super(LinearRegression, self).__init__()\n",
        "        self.W = nn.Parameter(torch.rand(1, requires_grad=True, dtype=torch.float32))\n",
        "        self.b = nn.Parameter(torch.rand(1, requires_grad=True, dtype=torch.float32))\n",
        "\n",
        "    def forward(self, x):\n",
        "        return (self.W * x) + self.b"
      ],
      "metadata": {
        "id": "SWD2XPwYi4k2"
      },
      "execution_count": null,
      "outputs": []
    },
    {
      "cell_type": "code",
      "source": [
        "model = LinearRegression()"
      ],
      "metadata": {
        "id": "bmurBuzVlSl8"
      },
      "execution_count": null,
      "outputs": []
    },
    {
      "cell_type": "code",
      "source": [
        "model.state_dict()"
      ],
      "metadata": {
        "colab": {
          "base_uri": "https://localhost:8080/"
        },
        "id": "kf1-m0Ukl5HA",
        "outputId": "367d57b6-7ee6-4582-9f19-1a6bc537f4ff"
      },
      "execution_count": null,
      "outputs": [
        {
          "output_type": "execute_result",
          "data": {
            "text/plain": [
              "OrderedDict([('W', tensor([0.0061])), ('b', tensor([0.5981]))])"
            ]
          },
          "metadata": {},
          "execution_count": 97
        }
      ]
    },
    {
      "cell_type": "code",
      "source": [
        "with torch.inference_mode():\n",
        "    pred = model(x_train)\n",
        "\n",
        "pred"
      ],
      "metadata": {
        "colab": {
          "base_uri": "https://localhost:8080/"
        },
        "id": "IbAX1MELmEvY",
        "outputId": "ec1c2cf6-2c63-4247-a830-56053eae23a2"
      },
      "execution_count": null,
      "outputs": [
        {
          "output_type": "execute_result",
          "data": {
            "text/plain": [
              "tensor([0.6042, 0.6103, 0.6165, 0.6226, 0.6287, 0.6348, 0.6410, 0.6471, 0.6532,\n",
              "        0.6594, 0.6655, 0.6716, 0.6777, 0.6839, 0.6900, 0.6961, 0.7023, 0.7084,\n",
              "        0.7145, 0.7206, 0.7268, 0.7329, 0.7390, 0.7452, 0.7513, 0.7574, 0.7635,\n",
              "        0.7697, 0.7758])"
            ]
          },
          "metadata": {},
          "execution_count": 98
        }
      ]
    },
    {
      "cell_type": "code",
      "source": [
        "plt.plot(x_train, y_true, label=\"True Label\")\n",
        "plt.plot(x_train, pred, label=\"Predictive Label\")\n",
        "plt.legend()\n",
        "plt.title(\"Before Training\")"
      ],
      "metadata": {
        "colab": {
          "base_uri": "https://localhost:8080/",
          "height": 470
        },
        "id": "MlyT45U4mXBn",
        "outputId": "3646a883-b6fb-42df-e5fa-fe0ae82e7dd2"
      },
      "execution_count": null,
      "outputs": [
        {
          "output_type": "execute_result",
          "data": {
            "text/plain": [
              "Text(0.5, 1.0, 'Before Training')"
            ]
          },
          "metadata": {},
          "execution_count": 99
        },
        {
          "output_type": "display_data",
          "data": {
            "text/plain": [
              "<Figure size 640x480 with 1 Axes>"
            ],
            "image/png": "[encoded data removed]"
          },
          "metadata": {}
        }
      ]
    },
    {
      "cell_type": "code",
      "source": [
        "mse_loss = nn.L1Loss()\n",
        "sgd_optim = torch.optim.Adam(model.parameters(), lr=0.01)"
      ],
      "metadata": {
        "id": "CS8Rsb5Emsn2"
      },
      "execution_count": null,
      "outputs": []
    },
    {
      "cell_type": "code",
      "source": [
        "epochs = 100\n",
        "tot_loss = []\n",
        "for epoch in range(epochs):\n",
        "    model.train()\n",
        "\n",
        "    pred = model(x_train)\n",
        "\n",
        "    loss = mse_loss(pred, y_true)\n",
        "    tot_loss.append(loss)\n",
        "\n",
        "    sgd_optim.zero_grad()\n",
        "    loss.backward()\n",
        "\n",
        "    sgd_optim.step()\n",
        "\n",
        "    test_loss = 0\n",
        "    model.eval()\n",
        "    with torch.inference_mode():\n",
        "        test_pred = model(x_train)\n",
        "        lest_loss = mse_loss(test_pred, y_true)\n",
        "\n",
        "    if epoch % 10 == 0:\n",
        "        print(f\"Epoch: {epoch+1}, Loss: {loss}, Test Loss: {test_loss}\")\n",
        "        print(model.state_dict())\n"
      ],
      "metadata": {
        "colab": {
          "base_uri": "https://localhost:8080/"
        },
        "id": "61MJXPP1mfoF",
        "outputId": "2412a34d-aace-4f99-b7dc-40af457107e4"
      },
      "execution_count": null,
      "outputs": [
        {
          "output_type": "stream",
          "name": "stdout",
          "text": [
            "Epoch: 1, Loss: 4.820420742034912, Test Loss: 0\n",
            "OrderedDict([('W', tensor([0.6150])), ('b', tensor([1.1943]))])\n",
            "Epoch: 11, Loss: 3.312582015991211, Test Loss: 0\n",
            "OrderedDict([('W', tensor([0.7138])), ('b', tensor([1.2847]))])\n",
            "Epoch: 21, Loss: 1.8946707248687744, Test Loss: 0\n",
            "OrderedDict([('W', tensor([0.8109])), ('b', tensor([1.3682]))])\n",
            "Epoch: 31, Loss: 0.7817161083221436, Test Loss: 0\n",
            "OrderedDict([('W', tensor([0.9019])), ('b', tensor([1.4350]))])\n",
            "Epoch: 41, Loss: 0.7354897856712341, Test Loss: 0\n",
            "OrderedDict([('W', tensor([0.9526])), ('b', tensor([1.4486]))])\n",
            "Epoch: 51, Loss: 0.5682041645050049, Test Loss: 0\n",
            "OrderedDict([('W', tensor([0.9268])), ('b', tensor([1.3916]))])\n",
            "Epoch: 61, Loss: 0.572390079498291, Test Loss: 0\n",
            "OrderedDict([('W', tensor([0.9248])), ('b', tensor([1.3451]))])\n",
            "Epoch: 71, Loss: 0.5313804149627686, Test Loss: 0\n",
            "OrderedDict([('W', tensor([0.9402])), ('b', tensor([1.3076]))])\n",
            "Epoch: 81, Loss: 0.5097472667694092, Test Loss: 0\n",
            "OrderedDict([('W', tensor([0.9402])), ('b', tensor([1.2547]))])\n",
            "Epoch: 91, Loss: 0.488651841878891, Test Loss: 0\n",
            "OrderedDict([('W', tensor([0.9399])), ('b', tensor([1.1995]))])\n"
          ]
        }
      ]
    },
    {
      "cell_type": "code",
      "source": [
        "list(model.parameters())"
      ],
      "metadata": {
        "colab": {
          "base_uri": "https://localhost:8080/"
        },
        "id": "t4lHLqpMxdcl",
        "outputId": "f22567ee-7282-4772-bda2-2d6a2f544323"
      },
      "execution_count": null,
      "outputs": [
        {
          "output_type": "execute_result",
          "data": {
            "text/plain": [
              "[Parameter containing:\n",
              " tensor([0.9448], requires_grad=True),\n",
              " Parameter containing:\n",
              " tensor([1.1522], requires_grad=True)]"
            ]
          },
          "metadata": {},
          "execution_count": 111
        }
      ]
    },
    {
      "cell_type": "code",
      "source": [
        "plt.title(\"Loss vs Epoch Graph\")\n",
        "plt.plot(torch.arange(1, epochs+1, 1), [loss.detach().numpy() for loss in tot_loss])"
      ],
      "metadata": {
        "colab": {
          "base_uri": "https://localhost:8080/",
          "height": 470
        },
        "id": "OTVSDUKiueIi",
        "outputId": "c374b70e-837f-4d54-d027-c7c6b101123f"
      },
      "execution_count": null,
      "outputs": [
        {
          "output_type": "execute_result",
          "data": {
            "text/plain": [
              "[<matplotlib.lines.Line2D at 0x7bb144cc67d0>]"
            ]
          },
          "metadata": {},
          "execution_count": 109
        },
        {
          "output_type": "display_data",
          "data": {
            "text/plain": [
              "<Figure size 640x480 with 1 Axes>"
            ],
            "image/png": "[encoded data removed]"
          },
          "metadata": {}
        }
      ]
    },
    {
      "cell_type": "code",
      "source": [
        "new_pred = model(x_train)\n",
        "plt.plot(x_train, y_true, label=\"truth\")\n",
        "plt.plot([pred.detach().numpy() for pred in new_pred], y_true, label=\"prediction\")\n",
        "plt.legend()"
      ],
      "metadata": {
        "colab": {
          "base_uri": "https://localhost:8080/",
          "height": 449
        },
        "id": "z2tRfMqXmflh",
        "outputId": "0bee0a39-7c14-487d-c2cb-81e93a6833c7"
      },
      "execution_count": null,
      "outputs": [
        {
          "output_type": "execute_result",
          "data": {
            "text/plain": [
              "<matplotlib.legend.Legend at 0x7bb1450a1610>"
            ]
          },
          "metadata": {},
          "execution_count": 110
        },
        {
          "output_type": "display_data",
          "data": {
            "text/plain": [
              "<Figure size 640x480 with 1 Axes>"
            ],
            "image/png": "[encoded data removed]"
          },
          "metadata": {}
        }
      ]
    },
    {
      "cell_type": "code",
      "source": [
        "for param in model.state_dict():\n",
        "    print(f\"Parameter: {param}, Value: {model.state_dict()[param]}, Size: {model.state_dict()[param].size()}\")"
      ],
      "metadata": {
        "colab": {
          "base_uri": "https://localhost:8080/"
        },
        "id": "3m2PnkhjmfjF",
        "outputId": "a6f6d8fd-4033-474a-c70a-3f6e05165d81"
      },
      "execution_count": null,
      "outputs": [
        {
          "output_type": "stream",
          "name": "stdout",
          "text": [
            "Parameter: W, Value: tensor([0.9448]), Size: torch.Size([1])\n",
            "Parameter: b, Value: tensor([1.1522]), Size: torch.Size([1])\n"
          ]
        }
      ]
    },
    {
      "cell_type": "code",
      "source": [
        "for param in sgd_optim.state_dict():\n",
        "    print(f\"Var Name: {sgd_optim.state_dict()[param]}\")"
      ],
      "metadata": {
        "colab": {
          "base_uri": "https://localhost:8080/"
        },
        "id": "Tf4_w36KmfgJ",
        "outputId": "67ea108c-43fc-43fb-c887-9612fe7de731"
      },
      "execution_count": null,
      "outputs": [
        {
          "output_type": "stream",
          "name": "stdout",
          "text": [
            "Var Name: {0: {'step': tensor(160.), 'exp_avg': tensor([-0.5775]), 'exp_avg_sq': tensor([18.6771])}, 1: {'step': tensor(160.), 'exp_avg': tensor([0.3751]), 'exp_avg_sq': tensor([0.0729])}}\n",
            "Var Name: [{'lr': 0.01, 'betas': (0.9, 0.999), 'eps': 1e-08, 'weight_decay': 0, 'amsgrad': False, 'maximize': False, 'foreach': None, 'capturable': False, 'differentiable': False, 'fused': None, 'params': [0, 1]}]\n"
          ]
        }
      ]
    },
    {
      "cell_type": "code",
      "source": [
        "model"
      ],
      "metadata": {
        "colab": {
          "base_uri": "https://localhost:8080/"
        },
        "id": "YYhLP5wx1ql6",
        "outputId": "89a741d7-fcc3-40c0-d1af-ae3becabbe33"
      },
      "execution_count": null,
      "outputs": [
        {
          "output_type": "execute_result",
          "data": {
            "text/plain": [
              "LinearRegression()"
            ]
          },
          "metadata": {},
          "execution_count": 127
        }
      ]
    },
    {
      "cell_type": "code",
      "source": [
        "# Savng model (Recommended way)\n",
        "path = \"/content/my_model.pt\"\n",
        "torch.save(model.state_dict(), path)"
      ],
      "metadata": {
        "id": "EY9_qZNcmfdg"
      },
      "execution_count": null,
      "outputs": []
    },
    {
      "cell_type": "code",
      "source": [
        "old_model = torch.load(path, weights_only=True)\n",
        "old_model"
      ],
      "metadata": {
        "colab": {
          "base_uri": "https://localhost:8080/"
        },
        "id": "zkuWzzymmfam",
        "outputId": "10ba0f85-1cf6-4280-ee46-092b53993728"
      },
      "execution_count": null,
      "outputs": [
        {
          "output_type": "execute_result",
          "data": {
            "text/plain": [
              "OrderedDict([('W', tensor([0.9448])), ('b', tensor([1.1522]))])"
            ]
          },
          "metadata": {},
          "execution_count": 132
        }
      ]
    },
    {
      "cell_type": "code",
      "source": [
        "!ls -la"
      ],
      "metadata": {
        "colab": {
          "base_uri": "https://localhost:8080/"
        },
        "id": "Rrb1w3v5mfYJ",
        "outputId": "e75a3a9b-c2d9-4405-c0ec-776ec7b828fb"
      },
      "execution_count": null,
      "outputs": [
        {
          "output_type": "stream",
          "name": "stdout",
          "text": [
            "total 20\n",
            "drwxr-xr-x 1 root root 4096 Feb  2 18:14 .\n",
            "drwxr-xr-x 1 root root 4096 Feb  2 16:37 ..\n",
            "drwxr-xr-x 4 root root 4096 Jan 30 14:18 .config\n",
            "-rw-r--r-- 1 root root 1502 Feb  2 18:14 my_model.pt\n",
            "drwxr-xr-x 1 root root 4096 Jan 30 14:19 sample_data\n"
          ]
        }
      ]
    },
    {
      "cell_type": "code",
      "source": [
        "# Loading Model\n",
        "loaded_model = LinearRegression()\n",
        "print(f\"Initial State: {loaded_model.state_dict()}\")\n",
        "\n",
        "loaded_model.load_state_dict(torch.load(path, weights_only=True))\n",
        "print(f\"Loaded State: {loaded_model.state_dict()}\")"
      ],
      "metadata": {
        "colab": {
          "base_uri": "https://localhost:8080/"
        },
        "id": "ZXgf7YhYmfS0",
        "outputId": "e1deff03-aaaf-4cf6-dc9f-0063bf2f9231"
      },
      "execution_count": null,
      "outputs": [
        {
          "output_type": "stream",
          "name": "stdout",
          "text": [
            "Initial State: OrderedDict([('W', tensor([0.8748])), ('b', tensor([0.9635]))])\n",
            "Loaded State: OrderedDict([('W', tensor([0.9448])), ('b', tensor([1.1522]))])\n"
          ]
        }
      ]
    },
    {
      "cell_type": "code",
      "source": [
        "loaded_model.eval()\n",
        "with torch.inference_mode():\n",
        "    loaded_model_preds = loaded_model(x_train)\n",
        "\n",
        "loaded_model_preds"
      ],
      "metadata": {
        "colab": {
          "base_uri": "https://localhost:8080/"
        },
        "id": "cOMUSvJ5mfPx",
        "outputId": "82fbd69e-b432-414a-d2de-bf5f344f0753"
      },
      "execution_count": null,
      "outputs": [
        {
          "output_type": "execute_result",
          "data": {
            "text/plain": [
              "tensor([ 2.0969,  3.0417,  3.9865,  4.9313,  5.8760,  6.8208,  7.7656,  8.7103,\n",
              "         9.6551, 10.5999, 11.5447, 12.4894, 13.4342, 14.3790, 15.3237, 16.2685,\n",
              "        17.2133, 18.1581, 19.1028, 20.0476, 20.9924, 21.9371, 22.8819, 23.8267,\n",
              "        24.7715, 25.7162, 26.6610, 27.6058, 28.5505])"
            ]
          },
          "metadata": {},
          "execution_count": 140
        }
      ]
    },
    {
      "cell_type": "code",
      "source": [
        "new_pred == loaded_model_preds"
      ],
      "metadata": {
        "colab": {
          "base_uri": "https://localhost:8080/"
        },
        "id": "2TOePx_l7Kez",
        "outputId": "daeade6e-bef0-49ee-824d-75c941228b65"
      },
      "execution_count": null,
      "outputs": [
        {
          "output_type": "execute_result",
          "data": {
            "text/plain": [
              "tensor([True, True, True, True, True, True, True, True, True, True, True, True,\n",
              "        True, True, True, True, True, True, True, True, True, True, True, True,\n",
              "        True, True, True, True, True])"
            ]
          },
          "metadata": {},
          "execution_count": 143
        }
      ]
    },
    {
      "cell_type": "code",
      "source": [
        "!nvidia-smi"
      ],
      "metadata": {
        "colab": {
          "base_uri": "https://localhost:8080/"
        },
        "id": "Xo3MsARH0Nt9",
        "outputId": "a2e199bf-d670-4b08-93d1-73fef1c1cc08"
      },
      "execution_count": null,
      "outputs": [
        {
          "output_type": "stream",
          "name": "stdout",
          "text": [
            "/bin/bash: line 1: nvidia-smi: command not found\n"
          ]
        }
      ]
    },
    {
      "cell_type": "code",
      "source": [
        "scalar = torch.tensor(3)\n",
        "scalar"
      ],
      "metadata": {
        "colab": {
          "base_uri": "https://localhost:8080/"
        },
        "id": "Rf-TJuds0eFZ",
        "outputId": "d71192b5-4a6b-477b-9f4c-a64add724bbb"
      },
      "execution_count": null,
      "outputs": [
        {
          "output_type": "execute_result",
          "data": {
            "text/plain": [
              "tensor(3)"
            ]
          },
          "metadata": {},
          "execution_count": 3
        }
      ]
    },
    {
      "cell_type": "code",
      "source": [
        "zeroes = torch.zeros((4, 4), dtype=torch.float64)\n",
        "ones = torch.ones(4, 2)\n",
        "zeroes, ones"
      ],
      "metadata": {
        "colab": {
          "base_uri": "https://localhost:8080/"
        },
        "id": "dEcnGawZ1S0W",
        "outputId": "234664c1-7667-402d-bfd3-893a5f548b5e"
      },
      "execution_count": null,
      "outputs": [
        {
          "output_type": "execute_result",
          "data": {
            "text/plain": [
              "(tensor([[0., 0., 0., 0.],\n",
              "         [0., 0., 0., 0.],\n",
              "         [0., 0., 0., 0.],\n",
              "         [0., 0., 0., 0.]], dtype=torch.float64),\n",
              " tensor([[1., 1.],\n",
              "         [1., 1.],\n",
              "         [1., 1.],\n",
              "         [1., 1.]]))"
            ]
          },
          "metadata": {},
          "execution_count": 4
        }
      ]
    },
    {
      "cell_type": "code",
      "source": [
        "torch.manual_seed(1729)\n",
        "# Manually setting the RNG’s seed resets it, so that identical computations depending on random number should, in most settings, provide identical results.\n",
        "\n",
        "random1 = torch.rand(2, 3)\n",
        "print(random1)\n",
        "\n",
        "random2 = torch.rand(2, 3)\n",
        "print(random2)\n",
        "\n",
        "torch.manual_seed(1729)\n",
        "random3 = torch.rand(2, 3)\n",
        "print(random3)\n",
        "\n",
        "random4 = torch.rand(2, 3)\n",
        "print(random4)"
      ],
      "metadata": {
        "colab": {
          "base_uri": "https://localhost:8080/"
        },
        "id": "c51sqD5r26iD",
        "outputId": "0f3e787e-d908-41a2-864d-c166624ef902"
      },
      "execution_count": null,
      "outputs": [
        {
          "output_type": "stream",
          "name": "stdout",
          "text": [
            "tensor([[0.3126, 0.3791, 0.3087],\n",
            "        [0.0736, 0.4216, 0.0691]])\n",
            "tensor([[0.2332, 0.4047, 0.2162],\n",
            "        [0.9927, 0.4128, 0.5938]])\n",
            "tensor([[0.3126, 0.3791, 0.3087],\n",
            "        [0.0736, 0.4216, 0.0691]])\n",
            "tensor([[0.2332, 0.4047, 0.2162],\n",
            "        [0.9927, 0.4128, 0.5938]])\n"
          ]
        }
      ]
    },
    {
      "cell_type": "code",
      "source": [
        "random1.ndim, random1.shape"
      ],
      "metadata": {
        "colab": {
          "base_uri": "https://localhost:8080/"
        },
        "id": "tDX5I2rEDBmx",
        "outputId": "f96a8f02-1175-47d8-8557-89c6593cc317"
      },
      "execution_count": null,
      "outputs": [
        {
          "output_type": "execute_result",
          "data": {
            "text/plain": [
              "(2, torch.Size([2, 3]))"
            ]
          },
          "metadata": {},
          "execution_count": 6
        }
      ]
    },
    {
      "cell_type": "code",
      "source": [
        "x = torch.empty(2, 2, 3)\n",
        "print(x.shape)\n",
        "print(x)\n",
        "\n",
        "empty_like_x = torch.empty_like(x)\n",
        "print(empty_like_x.shape)\n",
        "print(empty_like_x)\n",
        "\n",
        "zeros_like_x = torch.zeros_like(x)\n",
        "print(zeros_like_x.shape)\n",
        "print(zeros_like_x)\n",
        "\n",
        "ones_like_x = torch.ones_like(x)\n",
        "print(ones_like_x.shape)\n",
        "print(ones_like_x)\n",
        "\n",
        "rand_like_x = torch.rand_like(x)\n",
        "print(rand_like_x.shape)\n",
        "print(rand_like_x)"
      ],
      "metadata": {
        "colab": {
          "base_uri": "https://localhost:8080/"
        },
        "id": "DZkb0T8O58ZA",
        "outputId": "8902ecc6-6687-4611-ab35-a8fe4844fb22"
      },
      "execution_count": null,
      "outputs": [
        {
          "output_type": "stream",
          "name": "stdout",
          "text": [
            "torch.Size([2, 2, 3])\n",
            "tensor([[[-7.8838e-33,  4.3579e-41,  1.1448e-33],\n",
            "         [ 0.0000e+00,  0.0000e+00,  0.0000e+00]],\n",
            "\n",
            "        [[ 9.1084e-44,  0.0000e+00,  1.1467e-33],\n",
            "         [ 0.0000e+00,  1.1451e-33,  0.0000e+00]]])\n",
            "torch.Size([2, 2, 3])\n",
            "tensor([[[-7.8838e-33,  4.3579e-41, -7.8838e-33],\n",
            "         [ 4.3579e-41,  0.0000e+00,  0.0000e+00]],\n",
            "\n",
            "        [[ 9.1084e-44,  0.0000e+00,  1.1467e-33],\n",
            "         [ 0.0000e+00,  1.1451e-33,  0.0000e+00]]])\n",
            "torch.Size([2, 2, 3])\n",
            "tensor([[[0., 0., 0.],\n",
            "         [0., 0., 0.]],\n",
            "\n",
            "        [[0., 0., 0.],\n",
            "         [0., 0., 0.]]])\n",
            "torch.Size([2, 2, 3])\n",
            "tensor([[[1., 1., 1.],\n",
            "         [1., 1., 1.]],\n",
            "\n",
            "        [[1., 1., 1.],\n",
            "         [1., 1., 1.]]])\n",
            "torch.Size([2, 2, 3])\n",
            "tensor([[[0.5062, 0.8469, 0.2588],\n",
            "         [0.2707, 0.4115, 0.6839]],\n",
            "\n",
            "        [[0.0703, 0.5105, 0.9451],\n",
            "         [0.2359, 0.1979, 0.3327]]])\n"
          ]
        }
      ]
    },
    {
      "cell_type": "code",
      "source": [
        "random_image_tensor = torch.rand((3, 256, 256))\n",
        "random_image_tensor.ndim, random_image_tensor.shape"
      ],
      "metadata": {
        "colab": {
          "base_uri": "https://localhost:8080/"
        },
        "id": "cDllJ1SlG5ej",
        "outputId": "3d3977e9-c3fe-4773-a2fd-3b62c458d66c"
      },
      "execution_count": null,
      "outputs": [
        {
          "output_type": "execute_result",
          "data": {
            "text/plain": [
              "(3, torch.Size([3, 256, 256]))"
            ]
          },
          "metadata": {},
          "execution_count": 9
        }
      ]
    },
    {
      "cell_type": "code",
      "source": [
        "torch.arange(start=0, end=23, step=3)"
      ],
      "metadata": {
        "colab": {
          "base_uri": "https://localhost:8080/"
        },
        "id": "gZ6u3xfqINgx",
        "outputId": "870ff6ef-6aaf-4917-b55d-945bfe8402ca"
      },
      "execution_count": null,
      "outputs": [
        {
          "output_type": "execute_result",
          "data": {
            "text/plain": [
              "tensor([ 0,  3,  6,  9, 12, 15, 18, 21])"
            ]
          },
          "metadata": {},
          "execution_count": 10
        }
      ]
    },
    {
      "cell_type": "code",
      "source": [
        "tensorA = torch.rand((3, 2))\n",
        "tensorB = torch.rand((3, 2))\n",
        "\n",
        "\n",
        "torch.matmul(tensorA.T, tensorB)"
      ],
      "metadata": {
        "colab": {
          "base_uri": "https://localhost:8080/"
        },
        "id": "x9LV6i8lLmKf",
        "outputId": "a359c37f-e127-4ebc-9e69-2afe6c5d29ac"
      },
      "execution_count": null,
      "outputs": [
        {
          "output_type": "execute_result",
          "data": {
            "text/plain": [
              "tensor([[1.5828, 0.8624],\n",
              "        [0.7962, 0.4604]])"
            ]
          },
          "metadata": {},
          "execution_count": 11
        }
      ]
    },
    {
      "cell_type": "code",
      "source": [
        "x = torch.arange(start=1, end=21, step=2, dtype=torch.int32)\n",
        "x, x.dtype"
      ],
      "metadata": {
        "colab": {
          "base_uri": "https://localhost:8080/"
        },
        "id": "HPx7cnpNTHl5",
        "outputId": "c26d4a19-f36e-4b03-e2f9-8e411f1a9260"
      },
      "execution_count": null,
      "outputs": [
        {
          "output_type": "execute_result",
          "data": {
            "text/plain": [
              "(tensor([ 1,  3,  5,  7,  9, 11, 13, 15, 17, 19], dtype=torch.int32),\n",
              " torch.int32)"
            ]
          },
          "metadata": {},
          "execution_count": 12
        }
      ]
    },
    {
      "cell_type": "code",
      "source": [
        "# Mean aggregation ONLY requires either float or complex Tensor types (not int, long, etc)\n",
        "# torch.mean(x)\n",
        "torch.mean(x.type(torch.float32)), x.type(torch.float32).mean()"
      ],
      "metadata": {
        "colab": {
          "base_uri": "https://localhost:8080/"
        },
        "id": "S5pUoPe7TTqm",
        "outputId": "1eb992a4-37ad-4bbb-9a73-ce69916e3ce8"
      },
      "execution_count": null,
      "outputs": [
        {
          "output_type": "execute_result",
          "data": {
            "text/plain": [
              "(tensor(10.), tensor(10.))"
            ]
          },
          "metadata": {},
          "execution_count": 13
        }
      ]
    },
    {
      "cell_type": "code",
      "source": [
        "x.min(), x.max(), x.sum(), torch.min(x), torch.max(x), torch.sum(x)"
      ],
      "metadata": {
        "colab": {
          "base_uri": "https://localhost:8080/"
        },
        "id": "6eM3-YQ7aLP-",
        "outputId": "e255720e-f44d-4f5a-d5e2-29838c51d7b3"
      },
      "execution_count": null,
      "outputs": [
        {
          "output_type": "execute_result",
          "data": {
            "text/plain": [
              "(tensor(1, dtype=torch.int32),\n",
              " tensor(19, dtype=torch.int32),\n",
              " tensor(100),\n",
              " tensor(1, dtype=torch.int32),\n",
              " tensor(19, dtype=torch.int32),\n",
              " tensor(100))"
            ]
          },
          "metadata": {},
          "execution_count": 14
        }
      ]
    },
    {
      "cell_type": "code",
      "source": [
        "x = torch.tensor([\n",
        "    [1, 2, 3],\n",
        "    [4, 5, 6]\n",
        "])\n",
        "x, x.shape"
      ],
      "metadata": {
        "colab": {
          "base_uri": "https://localhost:8080/"
        },
        "id": "6KjAh5ccBTdz",
        "outputId": "a7656a2b-8e64-434f-a658-75092ef91816"
      },
      "execution_count": null,
      "outputs": [
        {
          "output_type": "execute_result",
          "data": {
            "text/plain": [
              "(tensor([[1, 2, 3],\n",
              "         [4, 5, 6]]),\n",
              " torch.Size([2, 3]))"
            ]
          },
          "metadata": {},
          "execution_count": 58
        }
      ]
    },
    {
      "cell_type": "code",
      "source": [
        "x_reshape = x.reshape(3, 2)\n",
        "x_reshape, x_reshape.shape"
      ],
      "metadata": {
        "colab": {
          "base_uri": "https://localhost:8080/"
        },
        "id": "fqw8BwIXBU1R",
        "outputId": "de3600ee-a66a-42c9-d6a7-79197476f0b2"
      },
      "execution_count": null,
      "outputs": [
        {
          "output_type": "execute_result",
          "data": {
            "text/plain": [
              "(tensor([[1, 2],\n",
              "         [3, 4],\n",
              "         [5, 6]]),\n",
              " torch.Size([3, 2]))"
            ]
          },
          "metadata": {},
          "execution_count": 51
        }
      ]
    },
    {
      "cell_type": "markdown",
      "source": [
        "# view() -> return tensor with same memory, size may vary, element will change on both tensors"
      ],
      "metadata": {
        "id": "7ObpFb2yF237"
      }
    },
    {
      "cell_type": "code",
      "source": [
        "z = x.view(3, 2)\n",
        "z, z.shape"
      ],
      "metadata": {
        "colab": {
          "base_uri": "https://localhost:8080/"
        },
        "id": "djjgODNPDVeI",
        "outputId": "887c9ffc-e4e1-401e-8f03-c1647e9016a1"
      },
      "execution_count": null,
      "outputs": [
        {
          "output_type": "execute_result",
          "data": {
            "text/plain": [
              "(tensor([[1, 2],\n",
              "         [3, 4],\n",
              "         [5, 6]]),\n",
              " torch.Size([3, 2]))"
            ]
          },
          "metadata": {},
          "execution_count": 59
        }
      ]
    },
    {
      "cell_type": "code",
      "source": [
        "z = z.reshape(-1)\n",
        "z[3:] = torch.arange(1, 4)\n",
        "z"
      ],
      "metadata": {
        "colab": {
          "base_uri": "https://localhost:8080/"
        },
        "id": "pqS_vsjVBUn1",
        "outputId": "8c105c1e-f73c-4ca9-f01f-2261523ff560"
      },
      "execution_count": null,
      "outputs": [
        {
          "output_type": "execute_result",
          "data": {
            "text/plain": [
              "tensor([1, 2, 3, 1, 2, 3])"
            ]
          },
          "metadata": {},
          "execution_count": 60
        }
      ]
    },
    {
      "cell_type": "code",
      "source": [
        "torch.manual_seed(42)\n",
        "tensor_random_seed_A = torch.rand(3, 4)\n",
        "torch.manual_seed(42)\n",
        "tensor_random_seed_B = torch.rand(3, 4)\n",
        "\n",
        "print(tensor_random_seed_A == tensor_random_seed_B)"
      ],
      "metadata": {
        "colab": {
          "base_uri": "https://localhost:8080/"
        },
        "id": "H7U1eO7-E8a-",
        "outputId": "60a33c7c-b89f-4a98-d3c8-0bc3caeb27ae"
      },
      "execution_count": null,
      "outputs": [
        {
          "output_type": "stream",
          "name": "stdout",
          "text": [
            "tensor([[True, True, True, True],\n",
            "        [True, True, True, True],\n",
            "        [True, True, True, True]])\n"
          ]
        }
      ]
    },
    {
      "cell_type": "code",
      "source": [
        "X_train = y_train = torch.rand(9)\n",
        "X_train, y_train"
      ],
      "metadata": {
        "colab": {
          "base_uri": "https://localhost:8080/"
        },
        "id": "wBHRJl-DI0GX",
        "outputId": "270040d4-2626-4f20-8890-fa8c3bda1f4e"
      },
      "execution_count": null,
      "outputs": [
        {
          "output_type": "execute_result",
          "data": {
            "text/plain": [
              "(tensor([0.4363, 0.6339, 0.3208, 0.4323, 0.1811, 0.6962, 0.8073, 0.2125, 0.3977]),\n",
              " tensor([0.4363, 0.6339, 0.3208, 0.4323, 0.1811, 0.6962, 0.8073, 0.2125, 0.3977]))"
            ]
          },
          "metadata": {},
          "execution_count": 38
        }
      ]
    },
    {
      "cell_type": "code",
      "source": [
        "X_test = y_test = torch.rand(9)\n",
        "X_test"
      ],
      "metadata": {
        "id": "KgROvgacF0Nu",
        "colab": {
          "base_uri": "https://localhost:8080/"
        },
        "outputId": "2dfdd347-bdb6-493a-af6e-d48828a13059"
      },
      "execution_count": null,
      "outputs": [
        {
          "output_type": "execute_result",
          "data": {
            "text/plain": [
              "tensor([0.9151, 0.5056, 0.2659, 0.5251, 0.1631, 0.7391, 0.9254, 0.2546, 0.9369])"
            ]
          },
          "metadata": {},
          "execution_count": 43
        }
      ]
    },
    {
      "cell_type": "code",
      "source": [
        "from sklearn.datasets import make_circles"
      ],
      "metadata": {
        "id": "XXBAow9uIKen"
      },
      "execution_count": null,
      "outputs": []
    },
    {
      "cell_type": "code",
      "source": [
        "X, y = make_circles(random_state=42, n_samples=1000)"
      ],
      "metadata": {
        "id": "XsCwrWyyNNdB"
      },
      "execution_count": null,
      "outputs": []
    },
    {
      "cell_type": "code",
      "source": [
        "X.shape, y.shape"
      ],
      "metadata": {
        "colab": {
          "base_uri": "https://localhost:8080/"
        },
        "id": "jOUNFvV4NNw3",
        "outputId": "5e99f4cd-8c98-4173-dbc0-1e4df2a074b0"
      },
      "execution_count": null,
      "outputs": [
        {
          "output_type": "execute_result",
          "data": {
            "text/plain": [
              "((1000, 2), (1000,))"
            ]
          },
          "metadata": {},
          "execution_count": 17
        }
      ]
    },
    {
      "cell_type": "code",
      "source": [
        "X[:10]"
      ],
      "metadata": {
        "colab": {
          "base_uri": "https://localhost:8080/"
        },
        "id": "3kcLopnlNN3Y",
        "outputId": "dff6dfe8-19cf-4c1a-d836-135346f23cc7"
      },
      "execution_count": null,
      "outputs": [
        {
          "output_type": "execute_result",
          "data": {
            "text/plain": [
              "array([[ 0.77230531,  0.20867321],\n",
              "       [-0.78934876,  0.13010973],\n",
              "       [-0.79369176,  0.10026659],\n",
              "       [-0.34062343,  0.72386164],\n",
              "       [ 0.43711577, -0.89940525],\n",
              "       [-0.49428769,  0.62903075],\n",
              "       [-0.01005283,  0.79993684],\n",
              "       [ 0.78934876,  0.13010973],\n",
              "       [-0.15976798, -0.78388404],\n",
              "       [-0.13779029,  0.99046143]])"
            ]
          },
          "metadata": {},
          "execution_count": 18
        }
      ]
    },
    {
      "cell_type": "code",
      "source": [
        "X = torch.from_numpy(X).type(torch.float)\n",
        "y = torch.from_numpy(y).type(torch.float)"
      ],
      "metadata": {
        "id": "jT1vzkVEIKbj"
      },
      "execution_count": null,
      "outputs": []
    },
    {
      "cell_type": "code",
      "source": [
        "from sklearn.model_selection import train_test_split"
      ],
      "metadata": {
        "id": "irwpaohfPj7d"
      },
      "execution_count": null,
      "outputs": []
    },
    {
      "cell_type": "code",
      "source": [
        "X_train, X_test, y_train, y_test = train_test_split(X, y, test_size=0.2)"
      ],
      "metadata": {
        "id": "fb8rB2FdPkBv"
      },
      "execution_count": null,
      "outputs": []
    },
    {
      "cell_type": "code",
      "source": [
        "X_train.shape"
      ],
      "metadata": {
        "colab": {
          "base_uri": "https://localhost:8080/"
        },
        "id": "IT_TXM1ZPkIU",
        "outputId": "0c333a72-1fe6-44cd-ed75-364ada1f9319"
      },
      "execution_count": null,
      "outputs": [
        {
          "output_type": "execute_result",
          "data": {
            "text/plain": [
              "torch.Size([800, 2])"
            ]
          },
          "metadata": {},
          "execution_count": 22
        }
      ]
    },
    {
      "cell_type": "code",
      "source": [
        "device = \"cuda\" if torch.cuda.is_available() else \"cpu\"\n",
        "device"
      ],
      "metadata": {
        "id": "c8dpPaAdIKYE",
        "colab": {
          "base_uri": "https://localhost:8080/",
          "height": 36
        },
        "outputId": "49688cd1-3ae2-40d0-c303-444fd68a6749"
      },
      "execution_count": null,
      "outputs": [
        {
          "output_type": "execute_result",
          "data": {
            "text/plain": [
              "'cpu'"
            ],
            "application/vnd.google.colaboratory.intrinsic+json": {
              "type": "string"
            }
          },
          "metadata": {},
          "execution_count": 23
        }
      ]
    },
    {
      "cell_type": "code",
      "source": [
        "from torch import optim"
      ],
      "metadata": {
        "id": "ORD6GIYLU4iu"
      },
      "execution_count": null,
      "outputs": []
    },
    {
      "cell_type": "code",
      "source": [
        "class CircleModel(nn.Module):\n",
        "    def __init__(self):\n",
        "        super(CircleModel, self).__init__()\n",
        "        self.l1 = nn.Linear(X_train.shape[1], 64)\n",
        "        self.l2 = nn.Linear(64, 1)\n",
        "\n",
        "    def forward(self, X):\n",
        "        z = self.l1(X)\n",
        "        z = self.l2(z)\n",
        "        return z"
      ],
      "metadata": {
        "id": "QJ-sq8uWEk5w"
      },
      "execution_count": null,
      "outputs": []
    },
    {
      "cell_type": "code",
      "source": [
        "model = CircleModel().to(device)\n",
        "loss_fn = nn.MSELoss()\n",
        "optimizer = optim.Adam(params=model.parameters(), lr=0.001)\n",
        "model"
      ],
      "metadata": {
        "colab": {
          "base_uri": "https://localhost:8080/"
        },
        "id": "DtCpmpXwRdiJ",
        "outputId": "9c5e51eb-c7ef-4ea6-8b9f-ed0b2c32e26a"
      },
      "execution_count": null,
      "outputs": [
        {
          "output_type": "execute_result",
          "data": {
            "text/plain": [
              "CircleModel(\n",
              "  (l1): Linear(in_features=2, out_features=64, bias=True)\n",
              "  (l2): Linear(in_features=64, out_features=1, bias=True)\n",
              ")"
            ]
          },
          "metadata": {},
          "execution_count": 39
        }
      ]
    },
    {
      "cell_type": "code",
      "source": [
        "model.state_dict()"
      ],
      "metadata": {
        "colab": {
          "base_uri": "https://localhost:8080/"
        },
        "id": "TJrBw6EVgoGB",
        "outputId": "67d07eb6-3064-4e1d-d9ac-e0ee562d870b"
      },
      "execution_count": null,
      "outputs": [
        {
          "output_type": "execute_result",
          "data": {
            "text/plain": [
              "OrderedDict([('l1.weight',\n",
              "              tensor([[-0.6919,  0.1416],\n",
              "                      [ 0.3297, -0.4734],\n",
              "                      [-0.5916, -0.4044],\n",
              "                      [ 0.6916, -0.4553],\n",
              "                      [ 0.0236,  0.0813],\n",
              "                      [-0.6869, -0.2152],\n",
              "                      [-0.0144,  0.2829],\n",
              "                      [-0.5119, -0.5454],\n",
              "                      [ 0.6659,  0.5758],\n",
              "                      [-0.5741, -0.1296],\n",
              "                      [-0.0710, -0.0712],\n",
              "                      [-0.0711, -0.5459],\n",
              "                      [-0.6702,  0.4137],\n",
              "                      [ 0.4037,  0.1410],\n",
              "                      [-0.5858, -0.2136],\n",
              "                      [ 0.0898, -0.4604],\n",
              "                      [ 0.6561,  0.4178],\n",
              "                      [-0.0663,  0.2473],\n",
              "                      [-0.3619,  0.4784],\n",
              "                      [ 0.5352,  0.2743],\n",
              "                      [ 0.3685,  0.2423],\n",
              "                      [-0.6771, -0.3322],\n",
              "                      [ 0.3208,  0.3926],\n",
              "                      [-0.2918,  0.3206],\n",
              "                      [ 0.2599,  0.1517],\n",
              "                      [-0.5034, -0.4743],\n",
              "                      [ 0.6136,  0.0223],\n",
              "                      [ 0.4665, -0.5469],\n",
              "                      [-0.2112,  0.5951],\n",
              "                      [ 0.1812,  0.4321],\n",
              "                      [ 0.2517,  0.4157],\n",
              "                      [ 0.4459, -0.1769],\n",
              "                      [ 0.7023, -0.5473],\n",
              "                      [-0.5333, -0.3681],\n",
              "                      [ 0.6799,  0.4759],\n",
              "                      [-0.3028,  0.2225],\n",
              "                      [-0.6698,  0.3834],\n",
              "                      [-0.5505,  0.0990],\n",
              "                      [-0.5739,  0.2833],\n",
              "                      [ 0.4975,  0.2673],\n",
              "                      [ 0.4376, -0.1236],\n",
              "                      [ 0.2819, -0.3545],\n",
              "                      [-0.5202, -0.6857],\n",
              "                      [-0.3630,  0.6116],\n",
              "                      [ 0.3983,  0.3386],\n",
              "                      [ 0.5029, -0.6783],\n",
              "                      [-0.5750,  0.5731],\n",
              "                      [-0.2942,  0.3087],\n",
              "                      [ 0.6830,  0.2956],\n",
              "                      [-0.0035, -0.5928],\n",
              "                      [-0.5948, -0.3709],\n",
              "                      [-0.0063, -0.6940],\n",
              "                      [ 0.1689,  0.2686],\n",
              "                      [-0.0060, -0.0953],\n",
              "                      [ 0.2345, -0.2668],\n",
              "                      [ 0.1932,  0.2308],\n",
              "                      [-0.3625,  0.2725],\n",
              "                      [ 0.2485,  0.3686],\n",
              "                      [ 0.6277,  0.0014],\n",
              "                      [-0.2114,  0.3237],\n",
              "                      [ 0.4939,  0.1697],\n",
              "                      [-0.1941,  0.2116],\n",
              "                      [-0.1610,  0.5716],\n",
              "                      [-0.4243,  0.2094]])),\n",
              "             ('l1.bias',\n",
              "              tensor([-0.4769,  0.4738,  0.6350, -0.0648, -0.3025,  0.0870,  0.0359, -0.0974,\n",
              "                      -0.1479,  0.0898, -0.2409, -0.6102,  0.3537, -0.1548,  0.1913,  0.3626,\n",
              "                      -0.0213, -0.6560, -0.0940,  0.3773, -0.4784, -0.2186, -0.5330,  0.3616,\n",
              "                       0.4298,  0.5035, -0.1159,  0.4696, -0.6585, -0.1490, -0.4541,  0.3120,\n",
              "                       0.3570,  0.3441, -0.0891, -0.2154,  0.0701,  0.0282, -0.2594,  0.5160,\n",
              "                      -0.6317, -0.1865, -0.1726, -0.1630,  0.1800,  0.3630,  0.6023, -0.0582,\n",
              "                      -0.4948,  0.6437,  0.0423,  0.0618, -0.5013, -0.4056,  0.0806, -0.3531,\n",
              "                      -0.6376, -0.4681,  0.0627,  0.3264,  0.6717,  0.6907, -0.2262,  0.2562])),\n",
              "             ('l2.weight',\n",
              "              tensor([[-0.0926, -0.0785, -0.0314,  0.0979, -0.0375,  0.0999, -0.0678,  0.1227,\n",
              "                       -0.0754, -0.0497,  0.0297, -0.1000,  0.0723,  0.0326, -0.1145,  0.0700,\n",
              "                       -0.1019, -0.0110,  0.0178,  0.1124, -0.0268, -0.0564, -0.0678,  0.0421,\n",
              "                       -0.0372,  0.0511,  0.0939, -0.0660,  0.0463,  0.1108, -0.0492, -0.0298,\n",
              "                        0.0014,  0.0654, -0.1076, -0.0662,  0.0643, -0.0421,  0.0633, -0.0820,\n",
              "                        0.0620, -0.0432, -0.0500,  0.1199,  0.1141, -0.0928,  0.1048,  0.0494,\n",
              "                        0.0535,  0.0085,  0.0573, -0.0252,  0.0642, -0.0147, -0.0265,  0.1115,\n",
              "                        0.0119, -0.0675, -0.0628, -0.0023, -0.0533, -0.0025,  0.0940, -0.1123]])),\n",
              "             ('l2.bias', tensor([0.0589]))])"
            ]
          },
          "metadata": {},
          "execution_count": 40
        }
      ]
    },
    {
      "cell_type": "code",
      "source": [
        "seq_model = nn.Sequential(\n",
        "    nn.Linear(in_features=2, out_features=64),\n",
        "    nn.Linear(in_features=64, out_features=1),\n",
        ")\n",
        "seq_model"
      ],
      "metadata": {
        "colab": {
          "base_uri": "https://localhost:8080/"
        },
        "id": "NzjNTgceVuOo",
        "outputId": "d0bfd6d7-18c0-4962-e786-a8a819582c65"
      },
      "execution_count": null,
      "outputs": [
        {
          "output_type": "execute_result",
          "data": {
            "text/plain": [
              "Sequential(\n",
              "  (0): Linear(in_features=2, out_features=64, bias=True)\n",
              "  (1): Linear(in_features=64, out_features=1, bias=True)\n",
              ")"
            ]
          },
          "metadata": {},
          "execution_count": 38
        }
      ]
    },
    {
      "cell_type": "code",
      "source": [
        "preds = model(X_train)\n",
        "preds.shape, preds[:10]"
      ],
      "metadata": {
        "colab": {
          "base_uri": "https://localhost:8080/"
        },
        "id": "KLdDCN2ZRdnq",
        "outputId": "fab5d9cc-4d7b-45b3-89fa-4e53d79a20a3"
      },
      "execution_count": null,
      "outputs": [
        {
          "output_type": "execute_result",
          "data": {
            "text/plain": [
              "(torch.Size([800, 1]),\n",
              " tensor([[ 0.4344],\n",
              "         [-0.1710],\n",
              "         [-0.2612],\n",
              "         [ 0.4370],\n",
              "         [ 0.2830],\n",
              "         [ 0.0102],\n",
              "         [ 0.1772],\n",
              "         [ 0.3189],\n",
              "         [ 0.3249],\n",
              "         [ 0.0154]], grad_fn=<SliceBackward0>))"
            ]
          },
          "metadata": {},
          "execution_count": 44
        }
      ]
    },
    {
      "cell_type": "code",
      "source": [],
      "metadata": {
        "id": "28Cyc6bTUVx5"
      },
      "execution_count": null,
      "outputs": []
    },
    {
      "cell_type": "code",
      "source": [],
      "metadata": {
        "id": "k8AOXsnUUV4e"
      },
      "execution_count": null,
      "outputs": []
    },
    {
      "cell_type": "code",
      "source": [],
      "metadata": {
        "id": "id64XS_CUV-r"
      },
      "execution_count": null,
      "outputs": []
    },
    {
      "cell_type": "code",
      "source": [],
      "metadata": {
        "id": "KKFIFkQnRdqy"
      },
      "execution_count": null,
      "outputs": []
    },
    {
      "cell_type": "code",
      "source": [],
      "metadata": {
        "id": "ErLus9rkRdvc"
      },
      "execution_count": null,
      "outputs": []
    },
    {
      "cell_type": "code",
      "source": [],
      "metadata": {
        "id": "38CLCM51Rdyz"
      },
      "execution_count": null,
      "outputs": []
    },
    {
      "cell_type": "code",
      "source": [],
      "metadata": {
        "id": "C8A57rQCReer"
      },
      "execution_count": null,
      "outputs": []
    },
    {
      "cell_type": "code",
      "source": [],
      "metadata": {
        "id": "meVyFfw2RekJ"
      },
      "execution_count": null,
      "outputs": []
    },
    {
      "cell_type": "code",
      "source": [],
      "metadata": {
        "id": "aITnwz8XReod"
      },
      "execution_count": null,
      "outputs": []
    },
    {
      "cell_type": "code",
      "source": [],
      "metadata": {
        "id": "4tufw3sPrCtb"
      },
      "execution_count": null,
      "outputs": []
    },
    {
      "cell_type": "code",
      "source": [
        "import torchvision\n",
        "from torchvision import datasets\n",
        "from torchvision.transforms import ToTensor"
      ],
      "metadata": {
        "id": "9PuftQfe5hDv"
      },
      "execution_count": null,
      "outputs": []
    },
    {
      "cell_type": "code",
      "source": [
        "training_dataset = datasets.FashionMNIST(\n",
        "                                    root=\"data\",\n",
        "                                    train=True,\n",
        "                                    download=True,\n",
        "                                    transform=ToTensor()\n",
        "                                )\n",
        "\n",
        "testing_dataset = datasets.FashionMNIST(\n",
        "                                    root=\"data\",\n",
        "                                    train=False,\n",
        "                                    download=True,\n",
        "                                    transform=ToTensor(),\n",
        "                                )"
      ],
      "metadata": {
        "id": "fK9myNIh5rCG",
        "outputId": "b3b47bb3-02da-4614-90e6-0d216d0d05a3",
        "colab": {
          "base_uri": "https://localhost:8080/"
        }
      },
      "execution_count": null,
      "outputs": [
        {
          "output_type": "stream",
          "name": "stdout",
          "text": [
            "Downloading http://fashion-mnist.s3-website.eu-central-1.amazonaws.com/train-images-idx3-ubyte.gz\n",
            "Downloading http://fashion-mnist.s3-website.eu-central-1.amazonaws.com/train-images-idx3-ubyte.gz to data/FashionMNIST/raw/train-images-idx3-ubyte.gz\n"
          ]
        },
        {
          "output_type": "stream",
          "name": "stderr",
          "text": [
            "100%|██████████| 26.4M/26.4M [00:02<00:00, 11.6MB/s]\n"
          ]
        },
        {
          "output_type": "stream",
          "name": "stdout",
          "text": [
            "Extracting data/FashionMNIST/raw/train-images-idx3-ubyte.gz to data/FashionMNIST/raw\n",
            "\n",
            "Downloading http://fashion-mnist.s3-website.eu-central-1.amazonaws.com/train-labels-idx1-ubyte.gz\n",
            "Downloading http://fashion-mnist.s3-website.eu-central-1.amazonaws.com/train-labels-idx1-ubyte.gz to data/FashionMNIST/raw/train-labels-idx1-ubyte.gz\n"
          ]
        },
        {
          "output_type": "stream",
          "name": "stderr",
          "text": [
            "100%|██████████| 29.5k/29.5k [00:00<00:00, 171kB/s]\n"
          ]
        },
        {
          "output_type": "stream",
          "name": "stdout",
          "text": [
            "Extracting data/FashionMNIST/raw/train-labels-idx1-ubyte.gz to data/FashionMNIST/raw\n",
            "\n",
            "Downloading http://fashion-mnist.s3-website.eu-central-1.amazonaws.com/t10k-images-idx3-ubyte.gz\n",
            "Downloading http://fashion-mnist.s3-website.eu-central-1.amazonaws.com/t10k-images-idx3-ubyte.gz to data/FashionMNIST/raw/t10k-images-idx3-ubyte.gz\n"
          ]
        },
        {
          "output_type": "stream",
          "name": "stderr",
          "text": [
            "100%|██████████| 4.42M/4.42M [00:01<00:00, 3.25MB/s]\n"
          ]
        },
        {
          "output_type": "stream",
          "name": "stdout",
          "text": [
            "Extracting data/FashionMNIST/raw/t10k-images-idx3-ubyte.gz to data/FashionMNIST/raw\n",
            "\n",
            "Downloading http://fashion-mnist.s3-website.eu-central-1.amazonaws.com/t10k-labels-idx1-ubyte.gz\n",
            "Downloading http://fashion-mnist.s3-website.eu-central-1.amazonaws.com/t10k-labels-idx1-ubyte.gz to data/FashionMNIST/raw/t10k-labels-idx1-ubyte.gz\n"
          ]
        },
        {
          "output_type": "stream",
          "name": "stderr",
          "text": [
            "100%|██████████| 5.15k/5.15k [00:00<00:00, 5.96MB/s]"
          ]
        },
        {
          "output_type": "stream",
          "name": "stdout",
          "text": [
            "Extracting data/FashionMNIST/raw/t10k-labels-idx1-ubyte.gz to data/FashionMNIST/raw\n",
            "\n"
          ]
        },
        {
          "output_type": "stream",
          "name": "stderr",
          "text": [
            "\n"
          ]
        }
      ]
    },
    {
      "cell_type": "code",
      "source": [
        "train_opr = [name for name in dir(training_dataset) if not name.startswith(\"_\")]\n",
        "train_opr"
      ],
      "metadata": {
        "id": "Y46lpUxd870U",
        "outputId": "40059573-d250-4b8d-a179-420fe9314821",
        "colab": {
          "base_uri": "https://localhost:8080/"
        }
      },
      "execution_count": null,
      "outputs": [
        {
          "output_type": "execute_result",
          "data": {
            "text/plain": [
              "['class_to_idx',\n",
              " 'classes',\n",
              " 'data',\n",
              " 'download',\n",
              " 'extra_repr',\n",
              " 'mirrors',\n",
              " 'processed_folder',\n",
              " 'raw_folder',\n",
              " 'resources',\n",
              " 'root',\n",
              " 'target_transform',\n",
              " 'targets',\n",
              " 'test_data',\n",
              " 'test_file',\n",
              " 'test_labels',\n",
              " 'train',\n",
              " 'train_data',\n",
              " 'train_labels',\n",
              " 'training_file',\n",
              " 'transform',\n",
              " 'transforms']"
            ]
          },
          "metadata": {},
          "execution_count": 5
        }
      ]
    },
    {
      "cell_type": "code",
      "source": [
        "training_dataset.data.shape, testing_dataset.data.shape"
      ],
      "metadata": {
        "id": "ykh5QNUF9SB6",
        "outputId": "f6e286b5-3848-4cd3-ba88-54c12af14ece",
        "colab": {
          "base_uri": "https://localhost:8080/"
        }
      },
      "execution_count": null,
      "outputs": [
        {
          "output_type": "execute_result",
          "data": {
            "text/plain": [
              "(torch.Size([60000, 28, 28]), torch.Size([10000, 28, 28]))"
            ]
          },
          "metadata": {},
          "execution_count": 6
        }
      ]
    },
    {
      "cell_type": "code",
      "source": [
        "training_dataset.targets"
      ],
      "metadata": {
        "id": "VMAKgfd0-Tp9",
        "outputId": "f9156d8d-78f3-4436-cdf1-0bb0fac367bb",
        "colab": {
          "base_uri": "https://localhost:8080/"
        }
      },
      "execution_count": null,
      "outputs": [
        {
          "output_type": "execute_result",
          "data": {
            "text/plain": [
              "tensor([9, 0, 0,  ..., 3, 0, 5])"
            ]
          },
          "metadata": {},
          "execution_count": 7
        }
      ]
    },
    {
      "cell_type": "code",
      "source": [
        "training_dataset.classes"
      ],
      "metadata": {
        "id": "0TeZX4NG9c8b",
        "outputId": "02d43c8b-214c-4681-a501-5d4215ab2393",
        "colab": {
          "base_uri": "https://localhost:8080/"
        }
      },
      "execution_count": null,
      "outputs": [
        {
          "output_type": "execute_result",
          "data": {
            "text/plain": [
              "['T-shirt/top',\n",
              " 'Trouser',\n",
              " 'Pullover',\n",
              " 'Dress',\n",
              " 'Coat',\n",
              " 'Sandal',\n",
              " 'Shirt',\n",
              " 'Sneaker',\n",
              " 'Bag',\n",
              " 'Ankle boot']"
            ]
          },
          "metadata": {},
          "execution_count": 8
        }
      ]
    },
    {
      "cell_type": "code",
      "source": [
        "classes = [\"T-shirt/top\", \"Trouser\", \"Pullover\", \"Dress\", \"Coat\", \"Sandal\", \"Shirt\", \"Sneaker\", \"Bag\", \"Ankel boot\"]"
      ],
      "metadata": {
        "id": "zCxom92d_PME"
      },
      "execution_count": null,
      "outputs": []
    },
    {
      "cell_type": "code",
      "source": [
        "def show_img(idx):\n",
        "    plt.imshow(training_dataset.data[idx], cmap=\"gray\")\n",
        "    plt.title(f\"Class: {classes[training_dataset.targets[idx]]}\")\n",
        "    plt.plot()"
      ],
      "metadata": {
        "id": "LKRzFLPl9hQh"
      },
      "execution_count": null,
      "outputs": []
    },
    {
      "cell_type": "code",
      "source": [
        "show_img(789)"
      ],
      "metadata": {
        "id": "kG1pbgGVAYCv",
        "outputId": "fbd31f17-f87c-45c1-9668-2243a6961ad6",
        "colab": {
          "base_uri": "https://localhost:8080/",
          "height": 452
        }
      },
      "execution_count": null,
      "outputs": [
        {
          "output_type": "display_data",
          "data": {
            "text/plain": [
              "<Figure size 640x480 with 1 Axes>"
            ],
            "image/png": "[encoded data removed]"
          },
          "metadata": {}
        }
      ]
    },
    {
      "cell_type": "code",
      "source": [
        "def plot_images():\n",
        "    figure = plt.figure(figsize=(8, 8))\n",
        "    cols, rows = 3, 3\n",
        "    for i in range(1, cols * rows + 1):\n",
        "        sample_idx = random.randrange(start=0, stop=training_dataset.data.shape[0])\n",
        "        img, label = training_dataset[sample_idx]\n",
        "        figure.add_subplot(rows, cols, i)\n",
        "        plt.title(classes[label])\n",
        "        plt.axis(\"off\")\n",
        "        plt.imshow(img.squeeze(), cmap=\"gray\")\n",
        "    plt.show()"
      ],
      "metadata": {
        "id": "blRx-VRrDzbt"
      },
      "execution_count": null,
      "outputs": []
    },
    {
      "cell_type": "code",
      "source": [
        "plot_images()"
      ],
      "metadata": {
        "id": "ZSDcGwIKEW29",
        "outputId": "7b9ac3cb-45ff-43ff-eced-78e9c493862b",
        "colab": {
          "base_uri": "https://localhost:8080/",
          "height": 675
        }
      },
      "execution_count": null,
      "outputs": [
        {
          "output_type": "display_data",
          "data": {
            "text/plain": [
              "<Figure size 800x800 with 9 Axes>"
            ],
            "image/png": "[encoded data removed]"
          },
          "metadata": {}
        }
      ]
    },
    {
      "cell_type": "code",
      "source": [
        "batch_size = 64\n",
        "\n",
        "train_dataloader = DataLoader(\n",
        "                        dataset=training_dataset,\n",
        "                        batch_size=batch_size\n",
        "                    )\n",
        "\n",
        "test_dataloader = DataLoader(\n",
        "                        dataset=testing_dataset,\n",
        "                        batch_size=batch_size\n",
        "                    )"
      ],
      "metadata": {
        "id": "jNNyPvsY708N"
      },
      "execution_count": null,
      "outputs": []
    },
    {
      "cell_type": "code",
      "source": [
        "train_loader_opr = [name for name in dir(train_dataloader) if not name.startswith(\"_\")]\n",
        "train_loader_opr"
      ],
      "metadata": {
        "id": "9qrUvqz283wH",
        "outputId": "33d17a7f-806b-4409-b950-fbd8968ffeac",
        "colab": {
          "base_uri": "https://localhost:8080/"
        }
      },
      "execution_count": null,
      "outputs": [
        {
          "output_type": "execute_result",
          "data": {
            "text/plain": [
              "['batch_sampler',\n",
              " 'batch_size',\n",
              " 'check_worker_number_rationality',\n",
              " 'collate_fn',\n",
              " 'dataset',\n",
              " 'drop_last',\n",
              " 'generator',\n",
              " 'multiprocessing_context',\n",
              " 'num_workers',\n",
              " 'persistent_workers',\n",
              " 'pin_memory',\n",
              " 'pin_memory_device',\n",
              " 'prefetch_factor',\n",
              " 'sampler',\n",
              " 'timeout',\n",
              " 'worker_init_fn']"
            ]
          },
          "metadata": {},
          "execution_count": 15
        }
      ]
    },
    {
      "cell_type": "code",
      "source": [
        "train_dataloader.dataset"
      ],
      "metadata": {
        "id": "_Kmhyn5S9PXO",
        "outputId": "f5c9eea6-35d0-42ee-b2e7-f38ad3bae4cf",
        "colab": {
          "base_uri": "https://localhost:8080/"
        }
      },
      "execution_count": null,
      "outputs": [
        {
          "output_type": "execute_result",
          "data": {
            "text/plain": [
              "Dataset FashionMNIST\n",
              "    Number of datapoints: 60000\n",
              "    Root location: data\n",
              "    Split: Train\n",
              "    StandardTransform\n",
              "Transform: ToTensor()"
            ]
          },
          "metadata": {},
          "execution_count": 16
        }
      ]
    },
    {
      "cell_type": "code",
      "source": [
        "## each element in the dataloader iterable will return a batch of 64 features and labels.\n",
        "\n",
        "for X, y in test_dataloader:\n",
        "    print(f\"Shape of X [N, C, H, W]: {X.shape}\")\n",
        "    print(f\"Shape of y: {y.shape} {y.dtype}\")\n",
        "    break"
      ],
      "metadata": {
        "id": "VHsLjuAPBTlg",
        "outputId": "32e1b570-2474-482f-ec3a-02050a9148b9",
        "colab": {
          "base_uri": "https://localhost:8080/"
        }
      },
      "execution_count": null,
      "outputs": [
        {
          "output_type": "stream",
          "name": "stdout",
          "text": [
            "Shape of X [N, C, H, W]: torch.Size([64, 1, 28, 28])\n",
            "Shape of y: torch.Size([64]) torch.int64\n"
          ]
        }
      ]
    },
    {
      "cell_type": "code",
      "source": [
        "device_type = \"cuda\" if torch.cuda.is_available() else \"cpu\"\n",
        "device_type"
      ],
      "metadata": {
        "id": "IQgIskGNCNXW",
        "outputId": "399c3b33-a4f8-4ddb-c653-bd2239b13761",
        "colab": {
          "base_uri": "https://localhost:8080/",
          "height": 35
        }
      },
      "execution_count": null,
      "outputs": [
        {
          "output_type": "execute_result",
          "data": {
            "text/plain": [
              "'cuda'"
            ],
            "application/vnd.google.colaboratory.intrinsic+json": {
              "type": "string"
            }
          },
          "metadata": {},
          "execution_count": 18
        }
      ]
    },
    {
      "cell_type": "code",
      "source": [
        "class NeuralNetwork(nn.Module):\n",
        "    def __init__(self):\n",
        "        super().__init__()\n",
        "        self.flatten = nn.Flatten()\n",
        "        self.stack = nn.Sequential(\n",
        "            nn.Linear(in_features=28*28, out_features=512),\n",
        "            nn.ReLU(),\n",
        "            nn.Linear(512, 256),\n",
        "            nn.ReLU(),\n",
        "            nn.Linear(256, 10)\n",
        "        )\n",
        "\n",
        "    def forward(self):\n",
        "        x = self.flatten(x)\n",
        "        logits = self.stack(x)\n",
        "        return logits\n"
      ],
      "metadata": {
        "id": "gKPug3LIIqUL"
      },
      "execution_count": null,
      "outputs": []
    },
    {
      "cell_type": "code",
      "source": [
        "model = NeuralNetwork().to(device=device_type)"
      ],
      "metadata": {
        "id": "1wuG_Z-BIroc"
      },
      "execution_count": null,
      "outputs": []
    },
    {
      "cell_type": "code",
      "source": [
        "model"
      ],
      "metadata": {
        "colab": {
          "base_uri": "https://localhost:8080/"
        },
        "id": "-6eJSMCtQmKy",
        "outputId": "9e10c6a5-9b11-4636-c23d-df49636ff1ed"
      },
      "execution_count": null,
      "outputs": [
        {
          "output_type": "execute_result",
          "data": {
            "text/plain": [
              "NeuralNetwork(\n",
              "  (flatten): Flatten(start_dim=1, end_dim=-1)\n",
              "  (stack): Sequential(\n",
              "    (0): Linear(in_features=784, out_features=512, bias=True)\n",
              "    (1): ReLU()\n",
              "    (2): Linear(in_features=512, out_features=256, bias=True)\n",
              "    (3): ReLU()\n",
              "    (4): Linear(in_features=256, out_features=10, bias=True)\n",
              "  )\n",
              ")"
            ]
          },
          "metadata": {},
          "execution_count": 24
        }
      ]
    },
    {
      "cell_type": "code",
      "source": [],
      "metadata": {
        "id": "tZe5KH6jQmr4"
      },
      "execution_count": null,
      "outputs": []
    }
  ],
  "metadata": {
    "kernelspec": {
      "display_name": "Python 3",
      "name": "python3"
    },
    "language_info": {
      "codemirror_mode": {
        "name": "ipython",
        "version": 3
      },
      "file_extension": ".py",
      "mimetype": "text/x-python",
      "name": "python",
      "nbconvert_exporter": "python",
      "pygments_lexer": "ipython3",
      "version": "3.10.12"
    },
    "colab": {
      "provenance": []
    }
  },
  "nbformat": 4,
  "nbformat_minor": 0
}